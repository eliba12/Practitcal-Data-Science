{
  "nbformat": 4,
  "nbformat_minor": 0,
  "metadata": {
    "colab": {
      "provenance": [],
      "authorship_tag": "ABX9TyN7GpD7nBtzn+hihjq5prL4",
      "include_colab_link": true
    },
    "kernelspec": {
      "name": "python3",
      "display_name": "Python 3"
    },
    "language_info": {
      "name": "python"
    }
  },
  "cells": [
    {
      "cell_type": "markdown",
      "metadata": {
        "id": "view-in-github",
        "colab_type": "text"
      },
      "source": [
        "<a href=\"https://colab.research.google.com/github/eliba12/Practitcal-Data-Science-ML-/blob/main/P12_Web_Scraping.ipynb\" target=\"_parent\"><img src=\"https://colab.research.google.com/assets/colab-badge.svg\" alt=\"Open In Colab\"/></a>"
      ]
    },
    {
      "cell_type": "markdown",
      "source": [
        "# Import Libraries"
      ],
      "metadata": {
        "id": "OWHFGmhynBX1"
      }
    },
    {
      "cell_type": "code",
      "execution_count": null,
      "metadata": {
        "id": "YSIZOPtLl3XN"
      },
      "outputs": [],
      "source": [
        "!pip install beautifulsoup4\n",
        "!pip install requests\n",
        "!pip install unicodedata\n",
        "import requests\n",
        "from bs4 import BeautifulSoup\n",
        "import unicodedata\n",
        "import pandas as pd"
      ]
    },
    {
      "cell_type": "code",
      "source": [
        "# Let's print the third table and check its content\n",
        "first_launch_table = html_tables[2]\n",
        "print(first_launch_table)"
      ],
      "metadata": {
        "id": "mF4AeHPXgtug"
      },
      "execution_count": null,
      "outputs": []
    },
    {
      "cell_type": "code",
      "source": [
        "def date_time(table_cells):\n",
        "    \"\"\"\n",
        "    This function returns the data and time from the HTML  table cell\n",
        "    Input: the  element of a table data cell extracts extra row\n",
        "    \"\"\"\n",
        "    return [data_time.strip() for data_time in list(table_cells.strings)][0:2]\n",
        "\n",
        "def booster_version(table_cells):\n",
        "    \"\"\"\n",
        "    This function returns the booster version from the HTML  table cell \n",
        "    Input: the  element of a table data cell extracts extra row\n",
        "    \"\"\"\n",
        "    out=''.join([booster_version for i,booster_version in enumerate( table_cells.strings) if i%2==0][0:-1])\n",
        "    return out\n",
        "\n",
        "def landing_status(table_cells):\n",
        "    \"\"\"\n",
        "    This function returns the landing status from the HTML table cell \n",
        "    Input: the  element of a table data cell extracts extra row\n",
        "    \"\"\"\n",
        "    out=[i for i in table_cells.strings][0]\n",
        "    return out\n",
        "\n",
        "\n",
        "def get_mass(table_cells):\n",
        "    mass=unicodedata.normalize(\"NFKD\", table_cells.text).strip()\n",
        "    if mass:\n",
        "        mass.find(\"kg\")\n",
        "        new_mass=mass[0:mass.find(\"kg\")+2]\n",
        "    else:\n",
        "        new_mass=0\n",
        "    return new_mass\n",
        "\n",
        "\n",
        "def extract_column_from_header(row):\n",
        "    \"\"\"\n",
        "    This function returns the landing status from the HTML table cell \n",
        "    Input: the  element of a table data cell extracts extra row\n",
        "    \"\"\"\n",
        "    if (row.br):\n",
        "        row.br.extract()\n",
        "    if row.a:\n",
        "        row.a.extract()\n",
        "    if row.sup:\n",
        "        row.sup.extract()\n",
        "        \n",
        "    colunm_name = ' '.join(row.contents)\n",
        "    \n",
        "    # Filter the digit and empty names\n",
        "    if not(colunm_name.strip().isdigit()):\n",
        "        colunm_name = colunm_name.strip()\n",
        "        return colunm_name    \n"
      ],
      "metadata": {
        "id": "fsBZ7fHMga97"
      },
      "execution_count": 38,
      "outputs": []
    },
    {
      "cell_type": "code",
      "source": [
        "static_url=\"https://en.wikipedia.org/w/index.php?title=List_of_Falcon_9_and_Falcon_Heavy_launches&oldid=1027686922\""
      ],
      "metadata": {
        "id": "exVRWV0moPw9"
      },
      "execution_count": 21,
      "outputs": []
    },
    {
      "cell_type": "code",
      "source": [
        "page=requests.get(static_url)"
      ],
      "metadata": {
        "id": "om-jc72FpKKy"
      },
      "execution_count": 22,
      "outputs": []
    },
    {
      "cell_type": "code",
      "source": [
        "page.status_code"
      ],
      "metadata": {
        "colab": {
          "base_uri": "https://localhost:8080/"
        },
        "id": "quQFib4mpZqR",
        "outputId": "61afa02d-b219-4da3-bf91-560fff0a9883"
      },
      "execution_count": 23,
      "outputs": [
        {
          "output_type": "execute_result",
          "data": {
            "text/plain": [
              "200"
            ]
          },
          "metadata": {},
          "execution_count": 23
        }
      ]
    },
    {
      "cell_type": "code",
      "source": [
        "page.text"
      ],
      "metadata": {
        "id": "tmaQX1bIpgd3"
      },
      "execution_count": null,
      "outputs": []
    },
    {
      "cell_type": "code",
      "source": [
        "soup=BeautifulSoup(page.text, 'html.parser')\n",
        "soup"
      ],
      "metadata": {
        "id": "AqYfshoertCO"
      },
      "execution_count": null,
      "outputs": []
    },
    {
      "cell_type": "markdown",
      "source": [
        "# Use soup.title attribute\n",
        "\n",
        "\n"
      ],
      "metadata": {
        "id": "dF4dR47etaKs"
      }
    },
    {
      "cell_type": "code",
      "source": [
        "soup.title"
      ],
      "metadata": {
        "colab": {
          "base_uri": "https://localhost:8080/"
        },
        "id": "lzQ_4UC-tG_e",
        "outputId": "a9c47e45-0685-441f-a652-7bbf9230dc37"
      },
      "execution_count": 30,
      "outputs": [
        {
          "output_type": "execute_result",
          "data": {
            "text/plain": [
              "<title>List of Falcon 9 and Falcon Heavy launches - Wikipedia</title>"
            ]
          },
          "metadata": {},
          "execution_count": 30
        }
      ]
    },
    {
      "cell_type": "code",
      "source": [
        "# Next, we want to collect all relevant column names from the HTML table header\n",
        "html_tables=soup.find_all('table')"
      ],
      "metadata": {
        "id": "AdEowecoqSf0"
      },
      "execution_count": 31,
      "outputs": []
    },
    {
      "cell_type": "code",
      "source": [
        "html_tables[2]"
      ],
      "metadata": {
        "id": "VfaQsJWYuC6F"
      },
      "execution_count": null,
      "outputs": []
    },
    {
      "cell_type": "code",
      "source": [
        "# Let's print the third table and check its content\n",
        "first_launch_table = html_tables[2]\n",
        "print(first_launch_table)"
      ],
      "metadata": {
        "id": "TQPXbQg3047d"
      },
      "execution_count": null,
      "outputs": []
    },
    {
      "cell_type": "code",
      "execution_count": null,
      "metadata": {
        "id": "3bK7-xwmdwlA"
      },
      "outputs": [],
      "source": [
        "type(first_launch_table)"
      ]
    },
    {
      "cell_type": "code",
      "source": [
        "column_names=[]\n",
        "\n",
        "for i in first_launch_table.find_all('th'):\n",
        "  if extract_column_from_header(i)!=None:\n",
        "    if len(extract_column_from_header(i))>0:\n",
        "      column_names.append(extract_column_from_header(i))"
      ],
      "metadata": {
        "id": "jlcD9t98QdZb"
      },
      "execution_count": 39,
      "outputs": []
    },
    {
      "cell_type": "code",
      "source": [
        "print(column_names)"
      ],
      "metadata": {
        "colab": {
          "base_uri": "https://localhost:8080/"
        },
        "id": "5XIJrNloTMJi",
        "outputId": "136dcfce-60cd-4c5d-828f-43c9d9d61ea3"
      },
      "execution_count": 40,
      "outputs": [
        {
          "output_type": "stream",
          "name": "stdout",
          "text": [
            "['Flight No.', 'Date and time ( )', 'Launch site', 'Payload', 'Payload mass', 'Orbit', 'Customer', 'Launch outcome']\n"
          ]
        }
      ]
    },
    {
      "cell_type": "markdown",
      "source": [
        "# Create a Data Frame by parsing the launch HTML Tables"
      ],
      "metadata": {
        "id": "BxkS0xmSTliN"
      }
    },
    {
      "cell_type": "code",
      "source": [
        "launch_dict= dict.fromkeys(column_names)\n",
        "\n",
        "#Remove an irrelvant column\n",
        "del launch_dict['Date and time ( )']\n",
        "# let's initial the Launch_dict with each value to be an empty list\n",
        "launch_dict['Flight No.'] = []\n",
        "launch_dict['Launch site'] = []\n",
        "launch_dict['Payload'] = []\n",
        "launch_dict['Payload mass'] = []\n",
        "launch_dict['Orbit'] = []\n",
        "launch_dict['Customer'] = []\n",
        "launch_dict['Launch outcome'] = []\n",
        "launch_dict['Version Booster'] = []\n",
        "launch_dict['Booster landing'] =[]\n",
        "launch_dict['Date']=[]"
      ],
      "metadata": {
        "id": "zyQ10KAFTgto"
      },
      "execution_count": 41,
      "outputs": []
    },
    {
      "cell_type": "code",
      "execution_count": null,
      "metadata": {
        "id": "zlOQLbyddwlC"
      },
      "outputs": [],
      "source": [
        "extracted_row = 0\n",
        "#Extract each table \n",
        "for table_number,table in enumerate(soup.find_all('table',\"wikitable plainrowheaders collapsible\")):\n",
        "   # get table row \n",
        "    for rows in table.find_all(\"tr\"):\n",
        "        #check to see if first table heading is as number corresponding to launch a number \n",
        "        if rows.th:\n",
        "            if rows.th.string:\n",
        "                flight_number=rows.th.string.strip()\n",
        "                flag=flight_number.isdigit()\n",
        "        else:\n",
        "            flag=False\n",
        "        #get table element \n",
        "        row=rows.find_all('td')\n",
        "        #if it is number save cells in a dictonary \n",
        "        if flag:\n",
        "            extracted_row += 1\n",
        "            # Flight Number value\n",
        "            # TODO: Append the flight_number into launch_dict with key `Flight No.`\n",
        "            launch_dict['Flight No.'].append(flight_number)\n",
        "            print(flight_number)\n",
        "            datatimelist=date_time(row[0])\n",
        "            \n",
        "            # Date value\n",
        "            # TODO: Append the date into launch_dict with key `Date`\n",
        "            date = datatimelist[0].strip(',')\n",
        "            launch_dict['Date'].append(date)\n",
        "            print(date)\n",
        "            \n",
        "            # Time value\n",
        "            # TODO: Append the time into launch_dict with key `Time`\n",
        "            time = datatimelist[1]\n",
        "            launch_dict['Time'].append(time)\n",
        "            print(time)\n",
        "              \n",
        "            # Booster version\n",
        "            # TODO: Append the bv into launch_dict with key `Version Booster`\n",
        "            bv=booster_version(row[1])\n",
        "            if not(bv):\n",
        "                bv=row[1].a.string\n",
        "            launch_dict['Version Booster'].append(bv)\n",
        "            print(bv)\n",
        "            \n",
        "            # Launch Site\n",
        "            # TODO: Append the bv into launch_dict with key `Launch Site`\n",
        "            launch_site = row[2].a.string\n",
        "            launch_dict['Launch site'].append(launch_site)\n",
        "            print(launch_site)\n",
        "            \n",
        "            # Payload\n",
        "            # TODO: Append the payload into launch_dict with key `Payload`\n",
        "            payload = row[3].a.string\n",
        "            launch_dict['Payload'].append(payload)\n",
        "            print(payload)\n",
        "            \n",
        "            # Payload Mass\n",
        "            # TODO: Append the payload_mass into launch_dict with key `Payload mass`\n",
        "            payload_mass = get_mass(row[4])\n",
        "            launch_dict['Payload mass'].append(payload_mass)\n",
        "            print(payload_mass)\n",
        "            \n",
        "            # Orbit\n",
        "            # TODO: Append the orbit into launch_dict with key `Orbit`\n",
        "            orbit = row[5].a.string\n",
        "            launch_dict['Orbit'].append(orbit)\n",
        "            print(orbit)\n",
        "            \n",
        "            # Customer\n",
        "            # TODO: Append the customer into launch_dict with key `Customer`\n",
        "            if row[6].a!=None:\n",
        "                customer = row[6].a.string\n",
        "            else: \n",
        "                customer='None'\n",
        "            launch_dict['Customer'].append(customer)\n",
        "            print(customer)\n",
        "            \n",
        "            # Launch outcome\n",
        "            # TODO: Append the launch_outcome into launch_dict with key `Launch outcome`\n",
        "            launch_outcome = list(row[7].strings)[0]\n",
        "            launch_dict['Launch outcome'].append(launch_outcome)\n",
        "            print(launch_outcome)\n",
        "            \n",
        "            # Booster landing\n",
        "            # TODO: Append the launch_outcome into launch_dict with key `Booster landing`\n",
        "            booster_landing = landing_status(row[8])\n",
        "            launch_dict['Booster landing'].append(booster_landing)\n",
        "            print(booster_landing)\n",
        "            \n",
        "            print(\"******\")\n",
        "            "
      ]
    },
    {
      "cell_type": "markdown",
      "source": [
        "# Convert Dictionary to Dataframe"
      ],
      "metadata": {
        "id": "r8aIpjEocHVx"
      }
    },
    {
      "cell_type": "code",
      "source": [
        "df=pd.DataFrame(launch_dict)"
      ],
      "metadata": {
        "id": "UDLKYzp2cNhp"
      },
      "execution_count": 45,
      "outputs": []
    },
    {
      "cell_type": "code",
      "source": [
        "df.info()"
      ],
      "metadata": {
        "colab": {
          "base_uri": "https://localhost:8080/"
        },
        "id": "EMR_aCTccUqe",
        "outputId": "09e05467-2ca5-4ccb-c389-cad8f27322bd"
      },
      "execution_count": 46,
      "outputs": [
        {
          "output_type": "stream",
          "name": "stdout",
          "text": [
            "<class 'pandas.core.frame.DataFrame'>\n",
            "RangeIndex: 0 entries\n",
            "Data columns (total 10 columns):\n",
            " #   Column           Non-Null Count  Dtype  \n",
            "---  ------           --------------  -----  \n",
            " 0   Flight No.       0 non-null      float64\n",
            " 1   Launch site      0 non-null      float64\n",
            " 2   Payload          0 non-null      float64\n",
            " 3   Payload mass     0 non-null      float64\n",
            " 4   Orbit            0 non-null      float64\n",
            " 5   Customer         0 non-null      float64\n",
            " 6   Launch outcome   0 non-null      float64\n",
            " 7   Version Booster  0 non-null      float64\n",
            " 8   Booster landing  0 non-null      float64\n",
            " 9   Date             0 non-null      float64\n",
            "dtypes: float64(10)\n",
            "memory usage: 124.0 bytes\n"
          ]
        }
      ]
    },
    {
      "cell_type": "code",
      "source": [
        "df['Launch outcome']"
      ],
      "metadata": {
        "colab": {
          "base_uri": "https://localhost:8080/"
        },
        "id": "uE9GqgSbMe0h",
        "outputId": "dd40b6fe-8399-470d-b5dd-bf70e9f11112"
      },
      "execution_count": 47,
      "outputs": [
        {
          "output_type": "execute_result",
          "data": {
            "text/plain": [
              "Series([], Name: Launch outcome, dtype: float64)"
            ]
          },
          "metadata": {},
          "execution_count": 47
        }
      ]
    },
    {
      "cell_type": "code",
      "source": [
        "df"
      ],
      "metadata": {
        "colab": {
          "base_uri": "https://localhost:8080/",
          "height": 111
        },
        "id": "4XwUQmEHM5ZN",
        "outputId": "645f4389-f147-4d7d-e2b4-bcd6bb4cee15"
      },
      "execution_count": 48,
      "outputs": [
        {
          "output_type": "execute_result",
          "data": {
            "text/plain": [
              "Empty DataFrame\n",
              "Columns: [Flight No., Launch site, Payload, Payload mass, Orbit, Customer, Launch outcome, Version Booster, Booster landing, Date]\n",
              "Index: []"
            ],
            "text/html": [
              "\n",
              "  <div id=\"df-424afa21-acdd-466b-b23f-b95baec73881\">\n",
              "    <div class=\"colab-df-container\">\n",
              "      <div>\n",
              "<style scoped>\n",
              "    .dataframe tbody tr th:only-of-type {\n",
              "        vertical-align: middle;\n",
              "    }\n",
              "\n",
              "    .dataframe tbody tr th {\n",
              "        vertical-align: top;\n",
              "    }\n",
              "\n",
              "    .dataframe thead th {\n",
              "        text-align: right;\n",
              "    }\n",
              "</style>\n",
              "<table border=\"1\" class=\"dataframe\">\n",
              "  <thead>\n",
              "    <tr style=\"text-align: right;\">\n",
              "      <th></th>\n",
              "      <th>Flight No.</th>\n",
              "      <th>Launch site</th>\n",
              "      <th>Payload</th>\n",
              "      <th>Payload mass</th>\n",
              "      <th>Orbit</th>\n",
              "      <th>Customer</th>\n",
              "      <th>Launch outcome</th>\n",
              "      <th>Version Booster</th>\n",
              "      <th>Booster landing</th>\n",
              "      <th>Date</th>\n",
              "    </tr>\n",
              "  </thead>\n",
              "  <tbody>\n",
              "  </tbody>\n",
              "</table>\n",
              "</div>\n",
              "      <button class=\"colab-df-convert\" onclick=\"convertToInteractive('df-424afa21-acdd-466b-b23f-b95baec73881')\"\n",
              "              title=\"Convert this dataframe to an interactive table.\"\n",
              "              style=\"display:none;\">\n",
              "        \n",
              "  <svg xmlns=\"http://www.w3.org/2000/svg\" height=\"24px\"viewBox=\"0 0 24 24\"\n",
              "       width=\"24px\">\n",
              "    <path d=\"M0 0h24v24H0V0z\" fill=\"none\"/>\n",
              "    <path d=\"M18.56 5.44l.94 2.06.94-2.06 2.06-.94-2.06-.94-.94-2.06-.94 2.06-2.06.94zm-11 1L8.5 8.5l.94-2.06 2.06-.94-2.06-.94L8.5 2.5l-.94 2.06-2.06.94zm10 10l.94 2.06.94-2.06 2.06-.94-2.06-.94-.94-2.06-.94 2.06-2.06.94z\"/><path d=\"M17.41 7.96l-1.37-1.37c-.4-.4-.92-.59-1.43-.59-.52 0-1.04.2-1.43.59L10.3 9.45l-7.72 7.72c-.78.78-.78 2.05 0 2.83L4 21.41c.39.39.9.59 1.41.59.51 0 1.02-.2 1.41-.59l7.78-7.78 2.81-2.81c.8-.78.8-2.07 0-2.86zM5.41 20L4 18.59l7.72-7.72 1.47 1.35L5.41 20z\"/>\n",
              "  </svg>\n",
              "      </button>\n",
              "      \n",
              "  <style>\n",
              "    .colab-df-container {\n",
              "      display:flex;\n",
              "      flex-wrap:wrap;\n",
              "      gap: 12px;\n",
              "    }\n",
              "\n",
              "    .colab-df-convert {\n",
              "      background-color: #E8F0FE;\n",
              "      border: none;\n",
              "      border-radius: 50%;\n",
              "      cursor: pointer;\n",
              "      display: none;\n",
              "      fill: #1967D2;\n",
              "      height: 32px;\n",
              "      padding: 0 0 0 0;\n",
              "      width: 32px;\n",
              "    }\n",
              "\n",
              "    .colab-df-convert:hover {\n",
              "      background-color: #E2EBFA;\n",
              "      box-shadow: 0px 1px 2px rgba(60, 64, 67, 0.3), 0px 1px 3px 1px rgba(60, 64, 67, 0.15);\n",
              "      fill: #174EA6;\n",
              "    }\n",
              "\n",
              "    [theme=dark] .colab-df-convert {\n",
              "      background-color: #3B4455;\n",
              "      fill: #D2E3FC;\n",
              "    }\n",
              "\n",
              "    [theme=dark] .colab-df-convert:hover {\n",
              "      background-color: #434B5C;\n",
              "      box-shadow: 0px 1px 3px 1px rgba(0, 0, 0, 0.15);\n",
              "      filter: drop-shadow(0px 1px 2px rgba(0, 0, 0, 0.3));\n",
              "      fill: #FFFFFF;\n",
              "    }\n",
              "  </style>\n",
              "\n",
              "      <script>\n",
              "        const buttonEl =\n",
              "          document.querySelector('#df-424afa21-acdd-466b-b23f-b95baec73881 button.colab-df-convert');\n",
              "        buttonEl.style.display =\n",
              "          google.colab.kernel.accessAllowed ? 'block' : 'none';\n",
              "\n",
              "        async function convertToInteractive(key) {\n",
              "          const element = document.querySelector('#df-424afa21-acdd-466b-b23f-b95baec73881');\n",
              "          const dataTable =\n",
              "            await google.colab.kernel.invokeFunction('convertToInteractive',\n",
              "                                                     [key], {});\n",
              "          if (!dataTable) return;\n",
              "\n",
              "          const docLinkHtml = 'Like what you see? Visit the ' +\n",
              "            '<a target=\"_blank\" href=https://colab.research.google.com/notebooks/data_table.ipynb>data table notebook</a>'\n",
              "            + ' to learn more about interactive tables.';\n",
              "          element.innerHTML = '';\n",
              "          dataTable['output_type'] = 'display_data';\n",
              "          await google.colab.output.renderOutput(dataTable, element);\n",
              "          const docLink = document.createElement('div');\n",
              "          docLink.innerHTML = docLinkHtml;\n",
              "          element.appendChild(docLink);\n",
              "        }\n",
              "      </script>\n",
              "    </div>\n",
              "  </div>\n",
              "  "
            ]
          },
          "metadata": {},
          "execution_count": 48
        }
      ]
    },
    {
      "cell_type": "code",
      "source": [
        "df.to_csv('spacex_web_scraped.csv', index=False)"
      ],
      "metadata": {
        "id": "qKqZXNW4NFY5"
      },
      "execution_count": 49,
      "outputs": []
    }
  ]
}