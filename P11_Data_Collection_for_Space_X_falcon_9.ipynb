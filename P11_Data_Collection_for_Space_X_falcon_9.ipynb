{
  "nbformat": 4,
  "nbformat_minor": 0,
  "metadata": {
    "colab": {
      "provenance": [],
      "authorship_tag": "ABX9TyOMzAvGaoUMa6hmDvNhc/rs",
      "include_colab_link": true
    },
    "kernelspec": {
      "name": "python3",
      "display_name": "Python 3"
    },
    "language_info": {
      "name": "python"
    }
  },
  "cells": [
    {
      "cell_type": "markdown",
      "metadata": {
        "id": "view-in-github",
        "colab_type": "text"
      },
      "source": [
        "<a href=\"https://colab.research.google.com/github/eliba12/Practitcal-Data-Science-ML-/blob/main/P11_Data_Collection_for_Space_X_falcon_9.ipynb\" target=\"_parent\"><img src=\"https://colab.research.google.com/assets/colab-badge.svg\" alt=\"Open In Colab\"/></a>"
      ]
    },
    {
      "cell_type": "markdown",
      "source": [
        "#Mandatory Libary"
      ],
      "metadata": {
        "id": "VDQoBoJDECec"
      }
    },
    {
      "cell_type": "code",
      "execution_count": 1,
      "metadata": {
        "id": "l2jmVPJA6Qgg"
      },
      "outputs": [],
      "source": [
        "import pandas as pd\n",
        "import numpy as ny\n",
        "import seaborn as svs\n",
        "import requests"
      ]
    }
  ]
}